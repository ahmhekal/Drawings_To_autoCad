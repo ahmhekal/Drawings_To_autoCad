{
 "cells": [
  {
   "cell_type": "code",
   "execution_count": 1,
   "metadata": {},
   "outputs": [
    {
     "name": "stdout",
     "output_type": "stream",
     "text": [
      "please wait a minute :D \n",
      "################### Please Wait a moment (^_^) ################### \n",
      "\n"
     ]
    }
   ],
   "source": [
    "import matplotlib\n",
    "#get_ipython().run_line_magic('matplotlib', 'inline')\n",
    "import matplotlib.pyplot as plt\n",
    "import matplotlib.image as mpimg\n",
    "from PIL import Image\n",
    "import numpy as np\n",
    "import cv2\n",
    "import math\n",
    "from operator import itemgetter\n",
    "from dxfwrite import DXFEngine as dxf\n",
    "from dxfwrite.dimlines import dimstyles, LinearDimension ,RadialDimension\n",
    "\n",
    "\n",
    "print(\"please wait a minute :D \")\n",
    "# Number of colors #\n",
    "Red=1\n",
    "Yellow=2\n",
    "Green=3\n",
    "Labny=4\n",
    "Blue=5\n",
    "Foshia=6\n",
    "White=7\n",
    "theta=0\n",
    "name=\"\"\n",
    "\n",
    "factor=1\n",
    "dimension=0\n",
    "\n",
    "horizontal=[]\n",
    "vertical=[]\n",
    "general_line=[]\n",
    "\n",
    "#image name\n",
    "\n",
    "\n",
    "list_circles=[]\n",
    "\n",
    "\n",
    "\n",
    "minx=0\n",
    "maxy=0\n",
    "\n",
    "\n",
    "\n",
    "\n",
    "######functions\n",
    "\n",
    "r=15 #how much do we want to approximate near points to be the same\n",
    "\n",
    "\n",
    "\n",
    "def same(arr1,arr2):\n",
    "    r=18\n",
    "    if abs(arr1[0]-arr2[0])<r and abs(arr1[1]-arr2[1])<r and abs(arr1[2]-arr2[2])<r and abs(arr1[3]-arr2[3])<r:\n",
    "        return True\n",
    "    else :\n",
    "        return False\n",
    "    \n",
    "def samep(n1,n2):\n",
    "    r=15\n",
    "    if abs(n1-n2)<r:\n",
    "        return True\n",
    "    else:\n",
    "        return False\n",
    "    \n",
    "    \n",
    "def im_in(n, array):\n",
    "    r=15\n",
    "    for i in array:\n",
    "        if abs(n-i)<r:\n",
    "            return True\n",
    "        \n",
    "    return False\n",
    "\n",
    "\n",
    "def connect_vertical_lines(vertical_lines):\n",
    "    maxy=0\n",
    "    #print('e3rd', vertical_lines)\n",
    "    ShouldRemove = []\n",
    "    vertical_end=[]\n",
    "    for i in range(0,len(vertical_lines)):\n",
    "        FlagOfRepetition = 0\n",
    "        length = len(vertical_lines)\n",
    "        maxy=0\n",
    "        extention_flag=0\n",
    "        \n",
    "        for j in range(0,len(vertical_lines)):\n",
    "            if(i==j):\n",
    "                continue\n",
    "                    \n",
    "            if vertical_lines[i][0] == vertical_lines[j][0]:  # They have the same x #\n",
    "\n",
    "                if vertical_lines[i][1] <= vertical_lines[j][1] and vertical_lines[i][3] >= vertical_lines[j][3]:  # i involve j #\n",
    "                    #print(str(vertical_lines[i]) + \" involve \" + str(vertical_lines[j]),i)\n",
    "                    ShouldRemove.append(vertical_lines[j])     # we should delete j\n",
    "\n",
    "                elif vertical_lines[i][1] >= vertical_lines[j][1] and vertical_lines[i][3] <= vertical_lines[j][3]:  # j involve i #4\n",
    "                    #print(str(vertical_lines[j]) + \" involve \" + str(vertical_lines[i]),i)\n",
    "                    ShouldRemove.append(vertical_lines[i])    # we should delete i\n",
    "                \n",
    "                elif vertical_lines[i][1] <= vertical_lines[j][1] and vertical_lines[i][3] >= vertical_lines[j][1]:\n",
    "                    extention_flag=1\n",
    "                    #print('case',vertical_lines[i],vertical_lines[j])\n",
    "                    ShouldRemove.append(vertical_lines[j])\n",
    "                    if vertical_lines[j][3]>=maxy:\n",
    "                        maxy=vertical_lines[j][3]\n",
    "                        \n",
    "                        \n",
    "        if extention_flag==1: \n",
    "            vertical_end.append((vertical_lines[i],maxy))\n",
    "            #print('appedned',vertical_lines[i],maxy)\n",
    "                    \n",
    "    output=[]                \n",
    "    for i in range(len(vertical_lines)):\n",
    "        flag=0\n",
    "        for j in range(len(ShouldRemove)):\n",
    "            if(vertical_lines[i][0]==ShouldRemove[j][0] and vertical_lines[i][1]==ShouldRemove[j][1] and\n",
    "              vertical_lines[i][2]==ShouldRemove[j][2] and vertical_lines[i][3]==ShouldRemove[j][3]):\n",
    "                flag=1\n",
    "                break\n",
    "                \n",
    "        if(flag==0):\n",
    "            #print('3mlna append',len(vertical_end))\n",
    "            for k in range(len(vertical_end)):\n",
    "                #print('elmafrood',vertical_lines[i],vertical_end[k][0])\n",
    "                if(vertical_lines[i][0]==vertical_end[k][0][0] and vertical_lines[i][1]==vertical_end[k][0][1] and\n",
    "                  vertical_lines[i][2]==vertical_end[k][0][2] and vertical_lines[i][3]==vertical_end[k][0][3]):\n",
    "                    vertical_lines[i][3]=vertical_end[k][1]\n",
    "                    #print('fe3ly',i,vertical_end[k][1])\n",
    "            output.append(vertical_lines[i])\n",
    "\n",
    "    return output\n",
    "            \n",
    "def connect_horizontal_lines(horizontal_lines):\n",
    "    maxx=0\n",
    "    ShouldRemove = []\n",
    "    horizontal_end=[]\n",
    "    for i in range(0,len(horizontal_lines)):\n",
    "        FlagOfRepetition = 0\n",
    "        length = len(horizontal_lines)\n",
    "        maxx=0\n",
    "        extention_flag=0\n",
    "        \n",
    "        for j in range(0,len(horizontal_lines)):\n",
    "            \n",
    "            if(i==j):\n",
    "                continue\n",
    "\n",
    "            if horizontal_lines[i][1] == horizontal_lines[j][1]:  # They have the same y #\n",
    "\n",
    "                if horizontal_lines[i][0] <= horizontal_lines[j][0] and horizontal_lines[i][2] >= horizontal_lines[j][2]:  # i involve j #\n",
    "                    ShouldRemove.append(horizontal_lines[j])     # we should delete j\n",
    "\n",
    "                elif horizontal_lines[i][0] >= horizontal_lines[j][0] and horizontal_lines[i][2] <= horizontal_lines[j][2]:  # j involve i #4\n",
    "                    ShouldRemove.append(horizontal_lines[i])    # we should delete i\n",
    "                    \n",
    "                elif horizontal_lines[i][0] <= horizontal_lines[j][0] and horizontal_lines[i][2] >= horizontal_lines[j][0]:\n",
    "                    extention_flag=1\n",
    "                    ShouldRemove.append(horizontal_lines[j])\n",
    "                    if horizontal_lines[j][2]>=maxx:\n",
    "                        maxx=horizontal_lines[j][2]\n",
    "                    \n",
    "        if extention_flag==1: \n",
    "            horizontal_end.append((horizontal_lines[i],maxx))\n",
    "            #print('appedned',horizontal_lines[i],maxx)\n",
    "                    \n",
    "    output=[]                \n",
    "    for i in range(len(horizontal_lines)):\n",
    "        flag=0\n",
    "        for j in range(len(ShouldRemove)):\n",
    "            if(horizontal_lines[i][0]==ShouldRemove[j][0] and horizontal_lines[i][1]==ShouldRemove[j][1] and\n",
    "              horizontal_lines[i][2]==ShouldRemove[j][2] and horizontal_lines[i][3]==ShouldRemove[j][3]):\n",
    "                flag=1\n",
    "                break\n",
    "                \n",
    "        if(flag==0):\n",
    "            for k in range(len(horizontal_end)):\n",
    "                #print('elmafrood',horizontal_lines[i],horizontal_end[k][0])\n",
    "                if(horizontal_lines[i][0]==horizontal_end[k][0][0] and horizontal_lines[i][1]==horizontal_end[k][0][1] and\n",
    "                  horizontal_lines[i][2]==horizontal_end[k][0][2] and horizontal_lines[i][3]==horizontal_end[k][0][3]):\n",
    "                    horizontal_lines[i][2]=horizontal_end[k][1]\n",
    "            output.append(horizontal_lines[i])\n",
    "\n",
    "    return output\n",
    "\n",
    "\n",
    "    \n",
    "############################################ FUNCTION DETECT LINES\n",
    "def detect_lines(gray):\n",
    "    global  horizontal\n",
    "    global vertical\n",
    "    global general_line\n",
    "    global minx\n",
    "    global maxy\n",
    "    \n",
    "    #creating a corresponding white image\n",
    "    \n",
    "    white = np.zeros_like(gray)                                                       \n",
    "    white.fill(255)\n",
    "    pure_lines = white\n",
    "    \n",
    "    \n",
    "    #detect edge\n",
    "    #di = cv2.dilate(gray,cv2.getStructuringElement(cv2.MORPH_RECT,(7,7)),iterations = 1)\n",
    "    #edges=di-gray\n",
    "    edges = cv2.Canny(gray, 50, 100)    # get the edges\n",
    "\n",
    "    #convert to binary image\n",
    "    ret,edges = cv2.threshold(edges,40,255,cv2.THRESH_BINARY)\n",
    "\n",
    "\n",
    "\n",
    "    kernel=cv2.getStructuringElement(cv2.MORPH_RECT,(7,7))\n",
    "    edges = cv2.morphologyEx(edges,cv2.MORPH_CLOSE,kernel)\n",
    "\n",
    "    #edges = cv2.dilate(edges,cv2.getStructuringElement(cv2.MORPH_RECT,(3,3)),iterations = 1)\n",
    "    print('edges before houghlines')\n",
    "    plt.imshow(edges, cmap='gray')\n",
    "    plt.show()\n",
    "    lines = cv2.HoughLinesP(edges, 1, np.pi/180, 85, minLineLength=15, maxLineGap=0)       # Detect lines\n",
    "\n",
    "\n",
    "    ####################################################################################################################\n",
    "\n",
    "    new_lines=[]\n",
    "    try:\n",
    "        for i in range(len(lines)):\n",
    "            flag=0\n",
    "            if (i!=0):\n",
    "                for j in range(i):\n",
    "                        if same(lines[i][0],lines[j][0]):\n",
    "                            flag=1\n",
    "                            continue\n",
    "            if(flag==0):\n",
    "                line=[]\n",
    "                line.append(lines[i][0][0])\n",
    "                line.append(lines[i][0][1])\n",
    "                line.append(lines[i][0][2])\n",
    "                line.append(lines[i][0][3])\n",
    "                new_lines.append(line)\n",
    "    \n",
    "    except:\n",
    "        #print('no lines found')\n",
    "        return pure_lines\n",
    "    \n",
    "    xs=[]\n",
    "    ys=[]\n",
    "\n",
    "    for i in new_lines:\n",
    "        xs.append(i[0])\n",
    "        xs.append(i[2])\n",
    "        ys.append(i[1])\n",
    "        ys.append(i[3])\n",
    "\n",
    "    # sorting #\n",
    "    sorted_x=sorted(xs)\n",
    "    sorted_y=sorted(ys)\n",
    "\n",
    "\n",
    "    special_x=[]\n",
    "    special_y=[]\n",
    "\n",
    "\n",
    "    for i in sorted_x:\n",
    "        if not(im_in(i, special_x)):\n",
    "            special_x.append(i)\n",
    "\n",
    "    for i in sorted_y:\n",
    "        if not(im_in(i, special_y)):\n",
    "            special_y.append(i)\n",
    "\n",
    "    #print(special_x,'yes')\n",
    "\n",
    "\n",
    "    ######################################################################################################################\n",
    "\n",
    "    for i in range(len(new_lines)):\n",
    "        for j in range(len(special_x)):\n",
    "            if(abs(new_lines[i][0]-special_x[j])<r):\n",
    "                new_lines[i][0]=special_x[j]\n",
    "                break\n",
    "\n",
    "        for j in range(len(special_x)):\n",
    "            if(abs(new_lines[i][2]-special_x[j])<r):\n",
    "                new_lines[i][2]=special_x[j]\n",
    "                break\n",
    "        for j in range(len(special_y)):\n",
    "            if(abs(new_lines[i][1]-special_y[j])<r):\n",
    "                new_lines[i][1]=special_y[j]\n",
    "                break\n",
    "\n",
    "        for j in range(len(special_y)):\n",
    "            if(abs(new_lines[i][3]-special_y[j])<r):\n",
    "                new_lines[i][3]=special_y[j]\n",
    "                break        \n",
    "\n",
    "\n",
    "    for i in range(len(new_lines)):   \n",
    "        x1, y1, x2, y2 = new_lines[i]\n",
    "        cv2.line(white, (x1, y1), (x2, y2), (0, 0, 0), 3)\n",
    "    #x1, y1, x2, y2 = new_lines[8]\n",
    "    #cv2.line(white, (x1, y1), (x2, y2), (255, 0, 0), 3)\n",
    "    #for i in new_lines:\n",
    "        #print(i,'here')\n",
    "\n",
    "    print('after detecting lines')\n",
    "    plt.imshow(white)\n",
    "    plt.show()\n",
    "\n",
    "    pure_lines = white\n",
    "\n",
    "\n",
    "    #FOR FARAG's HAPPINESS  ( Thank You ^^ )\n",
    "    # Getting the start point #\n",
    "    minx=min(special_x)\n",
    "    maxy=max(special_y)\n",
    "\n",
    "    #print(new_lines, 'all lines')\n",
    "    \n",
    "    \n",
    "    \n",
    "    for i in range(len(new_lines)):\n",
    "        \n",
    "        \n",
    "        new_lines[i][0]-=minx\n",
    "        new_lines[i][2]-=minx\n",
    "\n",
    "        new_lines[i][1]=maxy-new_lines[i][1]\n",
    "        new_lines[i][3]=maxy-new_lines[i][3]\n",
    "\n",
    "\n",
    "\n",
    "    vertical=[]\n",
    "    horizontal=[]\n",
    "    general_line=[]\n",
    "    \n",
    "    vertical_1=[]\n",
    "    horizontal_1=[]\n",
    "    general_line_1=[]\n",
    "    \n",
    "    for i in new_lines:\n",
    "        #print(\"dimension\",dimension)\n",
    "        i.append(math.sqrt((i[0]-i[2])**2+(i[1]-i[3])**2))     ################## i will change it to dimension #\n",
    "        if i[0]==i[2]:                  # To Extract Vertical lines\n",
    "            vertical_1.append(i)\n",
    "        elif i[1]==i[3]:\n",
    "            horizontal_1.append(i)        # To Extract Horizontal lines\n",
    "        else:\n",
    "            general_line_1.append(i)      # To Extract General lines\n",
    "\n",
    "    vertical_1=connect_vertical_lines(vertical_1)        # ( Connect Vertical lines first ) #\n",
    "    #print(\"ssdsafsdaf\",vertical_1)\n",
    "    horizontal_1=connect_horizontal_lines(horizontal_1)\n",
    "    \n",
    "\n",
    "    for i in vertical_1:\n",
    "        vertical.append(i)\n",
    "\n",
    "    for i in horizontal_1:\n",
    "        horizontal.append(i)\n",
    "\n",
    "        \n",
    "    for i in general_line_1:\n",
    "        general_line.append(i)\n",
    "    \n",
    "    return pure_lines\n",
    "    #horizontal = np.array(horizontal)\n",
    "    #vertical = np.array(vertical_2)\n",
    "\n",
    "    # print(\"H\",horizontal,\"H\")\n",
    "    # print(\"V\",vertical,\"V\")\n",
    "    # print(\"G\",general_line,\"G\")\n",
    "    # Show result     \n",
    "\n",
    "    \n",
    "    \n",
    "    \n",
    "    \n",
    "    \n",
    "    \n",
    "    \n",
    "    \n",
    "    \n",
    "\n",
    "\n",
    "print('################### Please Wait a moment (^_^) ################### \\n')\n",
    "def det_circles(img,deep=0):\n",
    "    \n",
    "    \n",
    "    img = cv2.medianBlur(img,5)\n",
    "\n",
    "    circles=[]\n",
    "    if deep==0:\n",
    "        try:\n",
    "            circles = cv2.HoughCircles(img,cv2.HOUGH_GRADIENT,\n",
    "                    1,60,param1=50, param2=30, minRadius=0,maxRadius=0)\n",
    "            circles = np.uint16(np.around(circles))\n",
    "        except:\n",
    "            pass\n",
    "    else:\n",
    "        try:\n",
    "            circles = cv2.HoughCircles(img,cv2.HOUGH_GRADIENT,\n",
    "                    1,60,param1=30, param2=15, minRadius=0,maxRadius=0)\n",
    "            circles = np.uint16(np.around(circles))\n",
    "        except:\n",
    "            pass\n",
    "    return circles\n",
    "\n",
    "\n",
    "\n",
    "\n",
    "\n",
    "class shapes:\n",
    "    \n",
    "    global factor\n",
    "    drawing = ''\n",
    "\n",
    "    def __init__(self,fileName):\n",
    "        self.drawing = dxf.drawing(fileName + '.dxf')\n",
    "\n",
    "\n",
    "\n",
    "    def text(self,text,x,y,color = Foshia):\n",
    "        text = dxf.text(text, (x, y), height=2, rotation=0)\n",
    "        text['layer'] = 'TEXT'\n",
    "        text['color'] = color\n",
    "        self.drawing.add(text)\n",
    "        self.drawing.save()\n",
    "\n",
    "    def line_with_NO_dims(self,x1, y1, x2, y2,color = White):\n",
    "        line = dxf.line((x1, y1), (x2, y2))\n",
    "        line['color'] = color\n",
    "        self.drawing.add(line)\n",
    "        self.drawing.save()\n",
    "\n",
    "    def Horizontal_line_with_under_dims(self,x1, y1, x2, y2,length,color = White):\n",
    "        hh = (length/18)\n",
    "        if hh < 0.4:\n",
    "            hh = 0.4\n",
    "        #print(\"Length of H.L.Under\",length)\n",
    "        line = dxf.line((x1, y1), (x2, y2))\n",
    "        line['color'] = color\n",
    "        self.drawing.add(line)\n",
    "\n",
    "        dimstyles.setup(self.drawing)\n",
    "\n",
    "        points = [(x1, y1 + length/100), (x2, y1 +  length/100)]  # mn hna bt7dd x bta3 al point   # al y = height of blue line\n",
    "\n",
    "        dimstyles.new(\"arrow\", tick=\"DIMTICK_ARROW\",scale=1,height = hh+0.2, tick2x=True, dimlineext=0.,tickfactor=length/5)\n",
    "        #dimlineex: incraese the length of line\n",
    "        \n",
    "        \n",
    "        \n",
    "        # The angle control the slope of line\n",
    "        Theta = math.atan((y1 - y2) / (x1 - x2))\n",
    "        Theta = math.degrees(Theta)\n",
    "        self.drawing.add(\n",
    "            LinearDimension((10, y1 -  length/10), points, dimstyle='arrow', angle=Theta))  # mn hna bt7dd y bta3 al point\n",
    "        # drawing.set_text(1, 'CATCH')\n",
    "        self.drawing.save()\n",
    "\n",
    "    def Horizontal_line_with_upper_dims(self,x1, y1, x2, y2,length,color = White):\n",
    "        hh = (length/18)\n",
    "        if hh < 0.4:\n",
    "            hh = 0.4\n",
    "        #print(\"Length of H.L.Upper\",length)\n",
    "        line = dxf.line((x1, y1), (x2, y2))\n",
    "        line['color'] = color\n",
    "        self.drawing.add(line)\n",
    "\n",
    "        dimstyles.setup(self.drawing)\n",
    "\n",
    "        points = [(x1, y1 ), (x2, y1 )]  # mn hna bt7dd x bta3 al point   # al y = height of blue line\n",
    "\n",
    "        dimstyles.new(\"arrow\", tick=\"DIMTICK_ARROW\",scale=1,height = hh+0.2, tick2x=True, dimlineext=0.,tickfactor=length/5)\n",
    "\n",
    "\n",
    "        # The angle control the slope of line\n",
    "        Theta = math.atan((y1 - y2) / (x1 - x2))\n",
    "        Theta = math.degrees(Theta)\n",
    "        self.drawing.add(\n",
    "            LinearDimension((10, y1 + length/10), points, dimstyle='arrow', angle=Theta))  # mn hna bt7dd y bta3 al point\n",
    "        # drawing.set_text(1, 'CATCH')\n",
    "        self.drawing.save()\n",
    "\n",
    "    def vertical_line_with_left_dims(self,x1, y1, x2, y2,length,color = White):\n",
    "        hh = (length/18)\n",
    "        if hh < 0.4:\n",
    "            hh = 0.4\n",
    "        #print(\"Length of V.L.Left\", length)\n",
    "        line = dxf.line((x1, y1), (x2, y2))\n",
    "        line['color'] = color\n",
    "        self.drawing.add(line)\n",
    "\n",
    "        dimstyles.setup(self.drawing)\n",
    "\n",
    "        points = [(x1  , y1), (x1 , y2)]  # mn hna bt7dd y bta3 al point   # al x = height of blue line\n",
    "\n",
    "        dimstyles.new(\"arrow\", tick=\"DIMTICK_ARROW\",scale=1,height = hh+0.2, tick2x=True, dimlineext=0.,tickfactor=length/5)\n",
    "\n",
    "\n",
    "        self.drawing.add(\n",
    "            LinearDimension((x1 - 2 , 7), points, dimstyle='arrow', angle=90))  # mn hna bt7dd x bta3 al point\n",
    "\n",
    "        self.drawing.save()\n",
    "\n",
    "    def vertical_line_with_right_dims(self,x1, y1, x2, y2,length,color = White):\n",
    "        hh = (length/18)\n",
    "        if hh < 0.4:\n",
    "            hh = 0.4\n",
    "        #print(\"Length of V.L.Right\", length)\n",
    "        line = dxf.line((x1, y1), (x2, y2))\n",
    "        line['color'] = color\n",
    "        self.drawing.add(line)\n",
    "\n",
    "        dimstyles.setup(self.drawing)\n",
    "\n",
    "        points = [(x1 , y1), (x1 , y2)]  # mn hna bt7dd y bta3 al point   # al x = height of blue line\n",
    "\n",
    "        dimstyles.new(\"arrow\",tick=\"DIMTICK_ARROW\",scale=1,height = hh+0.2 , tick2x=True, dimlineext=0.\n",
    "                      ,tickfactor=length/5)\n",
    "\n",
    "\n",
    "        self.drawing.add(\n",
    "            LinearDimension((x1 + (length/10) , 7), points, dimstyle='arrow', angle=90))  # mn hna bt7dd x bta3 al point\n",
    "\n",
    "        self.drawing.save()\n",
    "\n",
    "    def circle_with_NO_dims(self, r, x, y,color = White):\n",
    "        circle = dxf.circle(r, (x, y))\n",
    "        circle['color'] = color\n",
    "        self.drawing.add(circle)\n",
    "\n",
    "        self.drawing.save()\n",
    "\n",
    "    def circle_with_dims(self,r, x, y,color = White):\n",
    "        global theta\n",
    "        \n",
    "        circle = dxf.circle(r, (x, y))\n",
    "        circle['color'] = color\n",
    "        self.drawing.add(circle)\n",
    "\n",
    "        dimstyles.setup(self.drawing)\n",
    "        dimstyles.new(\"radius\",scale=1, height=r/4, prefix='R=',tickfactor=r/1.5)\n",
    "\n",
    "        self.drawing.add(RadialDimension((x, y), (x+r*np.sin(theta), y + r*np.cos(theta)), dimstyle='radius'))\n",
    "        self.drawing.save()\n",
    "        theta=(theta+0.2)%6\n",
    "\n",
    "    def arc(self,r,x,y,Theta1,Theta2,color = White):\n",
    "        arc = dxf.arc(r, (x, y), Theta1, Theta2)\n",
    "        arc['color'] = color\n",
    "        self.drawing.add(arc)\n",
    "        self.drawing.save()\n",
    "\n",
    "    def rectangle(self,x,y,width,height,color = White):\n",
    "        # (x,y) is the top right point of the rectangle\n",
    "\n",
    "        s.line_with_NO_dims(x-width, y-height, x, y-height,color)\n",
    "        s.line_with_NO_dims(x, y-height, x, y,color)\n",
    "        s.line_with_NO_dims(x-width, y-height, x-width, y,color)\n",
    "        s.line_with_NO_dims(x-width, y, x, y,color)\n",
    "\n",
    "    def dashed_line(self,x1,y1,x2,y2,color = Red):  # The dashed line should be vertical or horizontal only\n",
    "        if x1 == x2:                            # vertical dashed line\n",
    "            array = np.arange(y1, y2, 0.001)\n",
    "            count = 0\n",
    "            for y in array:\n",
    "                if count <= 100:\n",
    "                    point = dxf.point((x1,y))\n",
    "                    point['color'] = color\n",
    "                    self.drawing.add(point)\n",
    "                    count = count + 1\n",
    "                else:\n",
    "                    if count == 160:\n",
    "                        count = 0\n",
    "                    else:\n",
    "                        count = count + 1\n",
    "\n",
    "        elif y1 == y2:                          # Horizontal dashed line\n",
    "            array = np.arange(x1, x2, 0.001)\n",
    "            count = 0\n",
    "            for x in array:\n",
    "                if count <= 100:\n",
    "                    point = dxf.point((x, y1))\n",
    "                    point['color'] = color\n",
    "                    self.drawing.add(point)\n",
    "                    count = count + 1\n",
    "                else:\n",
    "                    if count == 160:\n",
    "                        count = 0\n",
    "                    else:\n",
    "                        count = count + 1\n",
    "        self.drawing.save()\n",
    "        \n",
    "    def Determine_UpperOrUnder(self,y,index,factor):\n",
    "        #print(\"NewLength=\",horizontal[index][4]/factor)\n",
    "        Flag_there_is_a_line_above_me = 0\n",
    "        #print(\"y\",y)\n",
    "        for i in horizontal:\n",
    "            #print(\"i[1]\",i[1])\n",
    "            if  i[1] > y:\n",
    "                Flag_there_is_a_line_above_me = 1\n",
    "                break\n",
    "        \n",
    "        #print(\"Flag\",Flag_there_is_a_line_above_me)\n",
    "        if Flag_there_is_a_line_above_me == 0:        \n",
    "            self.Horizontal_line_with_upper_dims(horizontal[index][0]/factor, horizontal[index][1]/factor,\n",
    "                       horizontal[index][2]/factor, horizontal[index][3]/factor,horizontal[index][4]/factor,Green)\n",
    "        else:\n",
    "            self.Horizontal_line_with_under_dims(horizontal[index][0]/factor, horizontal[index][1]/factor,\n",
    "                           horizontal[index][2]/factor, horizontal[index][3]/factor,horizontal[index][4]/factor,Green)\n",
    "                \n",
    "    def Determine_RightOrLeft(self,x,index,factor):\n",
    "        #print(\"NewLength=\", vertical[index][4] / factor)\n",
    "        Flag_there_is_a_line_right_me = 0\n",
    "        \n",
    "        for i in vertical:\n",
    "            if  i[0] > x:\n",
    "                Flag_there_is_a_line_right_me = 1\n",
    "                break\n",
    "               \n",
    "        if Flag_there_is_a_line_right_me == 0:        \n",
    "            self.vertical_line_with_right_dims(vertical[index][0]/factor, vertical[index][1]/factor,\n",
    "                       vertical[index][2]/factor, vertical[index][3]/factor,vertical[index][4]/factor,Green)\n",
    "        else:\n",
    "            self.vertical_line_with_left_dims(vertical[index][0]/factor, vertical[index][1]/factor,\n",
    "                           vertical[index][2]/factor, vertical[index][3]/factor,vertical[index][4]/factor,Green)\n"
   ]
  },
  {
   "cell_type": "code",
   "execution_count": 2,
   "metadata": {},
   "outputs": [],
   "source": [
    "\n",
    "def draw():   \n",
    "    \n",
    "\n",
    "    test = cv2.imread(name)     # Reading the original image\n",
    "\n",
    "\n",
    "    gray = cv2.cvtColor(test, cv2.COLOR_BGR2GRAY)                # convert fron BGR to Gray\n",
    "\n",
    "\n",
    "    global horizontal\n",
    "    global vertical\n",
    "    global general_line\n",
    "\n",
    "    pure_lines = detect_lines(gray)\n",
    "\n",
    "    # #print('NOWWWWWW')\n",
    "    # plt.imshow(pure_lines)\n",
    "    # plt.show()\n",
    "\n",
    "    # vertical, horizontal ,general_line, pure_lines = detect_lines(pure_lines, white)\n",
    "\n",
    "    # print('NOWWWWWW')\n",
    "    # plt.imshow(pure_lines)\n",
    "    # plt.show()\n",
    "\n",
    "\n",
    "\n",
    "    ##################################################################################################################\n",
    "\n",
    "    #print('######################################################2 \\n')\n",
    "    test = cv2.cvtColor(test, cv2.COLOR_BGR2GRAY)                # convert fron BGR to Gray\n",
    "\n",
    "\n",
    "    test = cv2.Canny(test, 100, 150)                           # get the edges\n",
    "\n",
    "    #convert to binary image\n",
    "    ret,test = cv2.threshold(test,40,255,cv2.THRESH_BINARY)\n",
    "\n",
    "    test = cv2.dilate(test,cv2.getStructuringElement(cv2.MORPH_ELLIPSE,(7,7)),iterations = 1)\n",
    "    test = cv2.erode(test,cv2.getStructuringElement(cv2.MORPH_ELLIPSE,(7,7)),iterations = 1)   \n",
    "    #ret,test = cv2.threshold(test,70,255,cv2.THRESH_BINARY)\n",
    "\n",
    "    test=cv2.bitwise_not(test)\n",
    "\n",
    "\n",
    "\n",
    "\n",
    "\n",
    "    ret,pure_lines = cv2.threshold(pure_lines,40,255,cv2.THRESH_BINARY)\n",
    "\n",
    "    white2=cv2.bitwise_not(pure_lines)\n",
    "\n",
    "    # print('test')\n",
    "    # plt.imshow(test)\n",
    "    # plt.show()\n",
    "\n",
    "    #print('lines after dilation')\n",
    "    white2 = cv2.dilate(white2,cv2.getStructuringElement(cv2.MORPH_ELLIPSE,(13,13)),iterations = 1)\n",
    "    # plt.imshow(white2)\n",
    "    # plt.show()\n",
    "\n",
    "    #white2 = cv2.erode(white2,cv2.getStructuringElement(cv2.MORPH_ELLIPSE,(9,9)),iterations = 1)\n",
    "\n",
    "\n",
    "    only_lines=cv2.bitwise_not(white2)\n",
    "\n",
    "\n",
    "    test=cv2.bitwise_not(test)\n",
    "    output=cv2.subtract(test,white2)\n",
    "    test=cv2.bitwise_not(test)\n",
    "\n",
    "    output = cv2.dilate(output,cv2.getStructuringElement(cv2.MORPH_ELLIPSE,(7,7)),iterations = 1)\n",
    "\n",
    "    output=cv2.bitwise_not(output)\n",
    "\n",
    "    # print('output circles only to be detected')\n",
    "    # plt.imshow(output)\n",
    "    # plt.show()\n",
    "\n",
    "    \n",
    "    \n",
    "\n",
    "    #print('######################################################4 \\n')\n",
    "\n",
    "    kernal=cv2.getStructuringElement(cv2.MORPH_ELLIPSE,(9,9))\n",
    "\n",
    "\n",
    "\n",
    "\n",
    "    #output=cv2.imread('circles1.png')\n",
    "\n",
    "\n",
    "    only_circles = output\n",
    "    deep=0 #the last iteration try to find circles more deeply\n",
    "\n",
    "    while(1):\n",
    "\n",
    "        gray = output\n",
    "\n",
    "        # print('a circle to be detected')\n",
    "        # plt.imshow(gray,cmap='gray')\n",
    "        # plt.show()\n",
    "\n",
    "        circles=det_circles(gray,deep)\n",
    "        #print(circles)\n",
    "\n",
    "        #deep=0 #deep = 0 again to check if it one a\n",
    "\n",
    "        try:\n",
    "            if(len(circles)==0  or circles[0][0][2]==0):\n",
    "                #print('try')\n",
    "                break\n",
    "        except:\n",
    "            deep=1\n",
    "            #print('except')\n",
    "\n",
    "\n",
    "        if(deep==1): #try to deep search for circles\n",
    "            circles=det_circles(gray,deep)\n",
    "            #print(circles)\n",
    "\n",
    "            try:\n",
    "                if(len(circles)==0  or circles[0][0][2]==0):\n",
    "                    #print('try')\n",
    "                    break\n",
    "            except:\n",
    "                deep=1\n",
    "                #print('except again')\n",
    "                break\n",
    "            #continue\n",
    "\n",
    "        #print('circles after break', circles)\n",
    "        for i in circles[0]:\n",
    "            #print('iiiiiiiiiiii',i)\n",
    "\n",
    "            circle=[]\n",
    "            circle.append(i[0])\n",
    "            circle.append(i[1])\n",
    "            circle.append(i[2])\n",
    "\n",
    "            list_circles.append(circle)\n",
    "\n",
    "        #creating a corresponding white image\n",
    "        white_new = np.zeros_like(test)                                                       \n",
    "        white_new.fill(255)\n",
    "\n",
    "        for i in circles[0,:4]:\n",
    "            #print('style',i[0],i[1],i[2])\n",
    "            cv2.circle(white_new,(i[0],i[1]),i[2],(0,0,0),2)\n",
    "\n",
    "        test=cv2.bitwise_not(output)\n",
    "        white2=cv2.bitwise_not(white_new)\n",
    "\n",
    "        test = cv2.erode(test,cv2.getStructuringElement(cv2.MORPH_ELLIPSE,(5,5)),iterations = 1)\n",
    "        white2 = cv2.dilate(white2,cv2.getStructuringElement(cv2.MORPH_ELLIPSE,(19,19)),iterations = 1)\n",
    "\n",
    "        output = cv2.subtract(test , white2)\n",
    "\n",
    "        # print('this')\n",
    "        # plt.imshow(test)\n",
    "        # plt.show()\n",
    "        #\n",
    "        # print('minus this')\n",
    "        # plt.imshow(white2)\n",
    "        # plt.show()\n",
    "        #\n",
    "        #\n",
    "        # plt.imshow(output)\n",
    "        # plt.show()\n",
    "\n",
    "\n",
    "        output = cv2.dilate(output,cv2.getStructuringElement(cv2.MORPH_ELLIPSE,(5,5)),iterations = 1)\n",
    "\n",
    "        output=cv2.bitwise_not(output)\n",
    "\n",
    "        #print('after removing the first circle')\n",
    "\n",
    "\n",
    "    # output = cv2.cvtColor(output, cv2.COLOR_BGR2GRAY)\n",
    "    # ret,output = cv2.threshold(output,100,255,cv2.THRESH_BINARY)\n",
    "\n",
    "    # plt.imshow(output, cmap='gray')\n",
    "    # plt.show()\n",
    "\n",
    "    # circles2=det_circles(output)\n",
    "    # print('2222',circles2)\n",
    "    # list_circles.append(circles2)\n",
    "\n",
    "\n",
    "    #print('list', list_circles)\n",
    "\n",
    "\n",
    "\n",
    "\n",
    "\n",
    "\n",
    "\n",
    "\n",
    "    #gray = cv2.imread(name,0)\n",
    "    #only_lines = cv2.cvtColor(only_lines, cv2.COLOR_BGR2GRAY)                # convert fron BGR to Gray\n",
    "    #ret,gray = cv2.threshold(gray,40,255,cv2.THRESH_BINARY)\n",
    "    #ret,only_lines = cv2.threshold(only_lines,40,255,cv2.THRESH_BINARY)\n",
    "\n",
    "    #make the lines thinner\n",
    "    #only_lines = cv2.dilate(only_lines,cv2.getStructuringElement(cv2.MORPH_RECT,(5,5)),iterations = 1)\n",
    "\n",
    "    #print('shape gray', gray.shape)\n",
    "    #print('only_lines gray', only_lines.shape)\n",
    "\n",
    "\n",
    "    #plt.imshow(gray,cmap='gray')\n",
    "    #plt.show()\n",
    "\n",
    "    #plt.imshow(only_lines,cmap='gray')\n",
    "    #plt.show()\n",
    "\n",
    "\n",
    "    #gray=cv2.subtract(only_lines, gray)\n",
    "    #gray = cv2.dilate(gray,cv2.getStructuringElement(cv2.MORPH_ELLIPSE,(21,21)),iterations = 1)\n",
    "\n",
    "    gray = only_circles                # convert fron BGR to Gray\n",
    "    gray = cv2.erode(gray,cv2.getStructuringElement(cv2.MORPH_ELLIPSE,(17,17)),iterations = 1)\n",
    "\n",
    "    # print('gray without lines')\n",
    "    # plt.imshow(gray,cmap='gray')\n",
    "    # plt.show()\n",
    "    #gray=cv2.bitwise_not(gray)\n",
    "\n",
    "    for j in range(len(list_circles)):\n",
    "\n",
    "        #print('circle number', j)\n",
    "        Find_Right_point = 0\n",
    "        Find_Left_point = 0\n",
    "        Find_Up_point = 0\n",
    "        Find_Down_point = 0\n",
    "\n",
    "        x = list_circles[j][0]\n",
    "        y = list_circles[j][1]\n",
    "        r = list_circles[j][2] \n",
    "\n",
    "        black = 200 #if the pixel value is less than this,, consider it black\n",
    "\n",
    "        for i in range (0,12):\n",
    "            for k in range(25):\n",
    "                index = x +r-5+i\n",
    "                value_1 = gray[y+k][index]\n",
    "                value_2 = gray[y-k][index]\n",
    "                #print('right',value_1,value_2,h)\n",
    "                if (black > value_1 or black > value_2) and Find_Right_point == 0 :\n",
    "                    Find_Right_point = 1\n",
    "                    #print('Find_Right_point')\n",
    "\n",
    "                index = x - r - 5 + i\n",
    "                value_1 = gray[y+k][index]\n",
    "                value_2 = gray[y-k][index]\n",
    "                #print('left',value_1,value_2,h)\n",
    "                if (black > value_1 or black > value_2) and Find_Left_point == 0:\n",
    "                    Find_Left_point = 1\n",
    "                    #print('Find_Left_point')\n",
    "\n",
    "                index = y+r-5+i\n",
    "                value_1 = gray[index][x-k]\n",
    "                value_2 = gray[index][x+k]\n",
    "                #print('down',value_1,value_2,h)\n",
    "                if  (black > value_1 or black > value_2) and Find_Down_point == 0:\n",
    "                    Find_Down_point = 1\n",
    "                    #print('Find_Down_point')\n",
    "\n",
    "                index = y - r - 5 + i\n",
    "                value_1 = gray[index][x-k]\n",
    "                value_2 = gray[index][x+k]\n",
    "                #print('up',value_1,value_2)\n",
    "                if (black > value_1 or black > value_2) and Find_Up_point == 0 :\n",
    "                    Find_Up_point = 1\n",
    "                    #print('Find_Up_point')\n",
    "\n",
    "        Decision = str(Find_Right_point)+str(Find_Left_point)+str(Find_Up_point)+str(Find_Down_point)\n",
    "        #print(Decision)\n",
    "        if Decision == '1011':\n",
    "            list_circles[j].append('right half circle')\n",
    "        elif Decision == '0111':\n",
    "            list_circles[j].append('left half circle')\n",
    "        elif Decision == '1110':\n",
    "            list_circles[j].append('up half circle')\n",
    "        elif Decision == '1101':\n",
    "            list_circles[j].append('down half circle')\n",
    "        else:\n",
    "            #print(Decision)\n",
    "            list_circles[j].append('full circle')\n",
    "\n",
    "\n",
    "\n",
    "  #  for j in list_circles:\n",
    "        #for i in range(3):\n",
    "        # #Getting The Centre\n",
    "        # x = i[0]\n",
    "        # y = i[1]\n",
    "        #\n",
    "        # #Getting The Radius\n",
    "        # r = i[2]\n",
    "        #draw the outer circle\n",
    "        #cv2.circle(white,(j[0],j[1]),j[2],(0,0,0),2)\n",
    "        #draw the center of the circle\n",
    "        #cv2.circle(white,(i[0],i[1]),2,(0,0,255),3)\n",
    "        #print (j[2], 'list of circles')\n",
    "\n",
    "\n",
    "\n",
    "    for j in range(len(list_circles)):\n",
    "        list_circles[j][0] -= minx\n",
    "        list_circles[j][1]  = maxy-list_circles[j][1]\n",
    "\n",
    "\n",
    "        #plt.imshow(white,cmap='gray')"
   ]
  },
  {
   "cell_type": "code",
   "execution_count": 3,
   "metadata": {},
   "outputs": [],
   "source": [
    "def main_prog():\n",
    "    \n",
    "    global horizontal\n",
    "    global vertical\n",
    "    global general_line\n",
    "    \n",
    "    \n",
    "    \n",
    "    s = shapes(name)\n",
    "    #s.circle_with_dims(2,3,5,Blue)\n",
    "\n",
    "\n",
    "     #Ex1: Tesing all shpes I have till Now #\n",
    "\n",
    "    # s.line_with_NO_dims(1,1,2,2)\n",
    "    # s.Horizontal_line_with_under_dims(2,3,5,3)\n",
    "    # s.Horizontal_line_with_upper_dims(2,5,5,5)\n",
    "    # s.vertical_line_with_left_dims(10,2,10,8,Blue)\n",
    "    # s.vertical_line_with_right_dims(13,2,13,8)\n",
    "    # s.circle_with_NO_dims(2,17,6.5,Yellow)\n",
    "    # s.circle_with_dims(2,17,2)\n",
    "    # s.arc(1.2,5.6,2.4,30.5,90.9)\n",
    "\n",
    "\n",
    "\n",
    "\n",
    "     #EX2: trying to draw the proposal shape #\n",
    "\n",
    "    global factor \n",
    "    factor = distancelist[0]/dimension\n",
    "    #print(factor)\n",
    "    # s.text(\"Elevation\",6.7,-0.5)\n",
    "    #[[57, 58, 318, 58, 261.0], [57, 145, 318, 145, 261.0], [0, 0, 385, 0, 385.0]]\n",
    "    horizontal=sorted(horizontal, key = itemgetter(4))    # sortred by length\n",
    " #  HORIZONTAL=sorted(HORIZONTAL, key = itemgetter(1))    # sorted by ( y )\n",
    "\n",
    "\n",
    "    if(len(horizontal)==1):\n",
    "        # print(\"ok1\")\n",
    "        s.Horizontal_line_with_under_dims(horizontal[0][0]/factor, horizontal[0][1]/factor, horizontal[0][2]/factor, horizontal[0][3]/factor,horizontal[0][4]/factor,Green)\n",
    "\n",
    "    if(len(horizontal)>1 and (horizontal[0][4]!=horizontal[1][4])):\n",
    "        # print(\"ok2\")\n",
    "        s.Determine_UpperOrUnder(horizontal[0][1],0,factor)\n",
    "\n",
    "    for i in range (1,len(horizontal)):\n",
    "\n",
    "        if(horizontal[i][4]==horizontal[i-1][4]):    # length of i = length of  i-1 \n",
    "            if(horizontal[i][1]<horizontal[i-1][1]): #  i under i-1\n",
    "                # print(\"ok3\")\n",
    "                s.Horizontal_line_with_under_dims(horizontal[i][0]/factor, horizontal[i][1]/factor, horizontal[i][2]/factor, horizontal[i][3]/factor,horizontal[i][4]/factor,Green)\n",
    "                s.line_with_NO_dims(horizontal[i-1][0]/factor, horizontal[i-1][1]/factor, horizontal[i-1][2]/factor, horizontal[i-1][3]/factor,Green)\n",
    "            else:                                    # i upper i-1\n",
    "                # print(\"ok4\")\n",
    "                s.line_with_NO_dims(horizontal[i][0]/factor, horizontal[i][1]/factor, horizontal[i][2]/factor, horizontal[i][3]/factor,Green)\n",
    "                s.Horizontal_line_with_under_dims(horizontal[i-1][0]/factor, horizontal[i-1][1]/factor, horizontal[i-1][2]/factor, horizontal[i-1][3]/factor,horizontal[i-1][4]/factor,Green)\n",
    "        elif(i==len(horizontal)-1):\n",
    "             # print(\"ok5\")\n",
    "             s.Determine_UpperOrUnder(horizontal[i][1],i,factor)\n",
    "\n",
    "        elif(horizontal[i][4]!=horizontal[i-1][4] and horizontal[i][4]!=horizontal[i+1][4]):\n",
    "            # print(\"ok6\")\n",
    "            s.Determine_UpperOrUnder(horizontal[i][1],i,factor)\n",
    "\n",
    "\n",
    "\n",
    "    vertical=sorted(vertical, key = itemgetter(4))\n",
    "\n",
    "    if(len(vertical)==1):\n",
    "        s.vertical_line_with_right_dims(vertical[0][0]/factor, vertical[0][1]/factor, vertical[0][2]/factor, vertical[0][3]/factor,vertical[0][4]/factor,Green)\n",
    "    if(len(vertical)>1 and (vertical[0][4]!=vertical[1][4])):\n",
    "        s.Determine_RightOrLeft(vertical[0][0],0,factor)\n",
    "\n",
    "    for i in range (1,len(vertical)):\n",
    "        if(vertical[i][4]==vertical[i-1][4]):     # length of i = length of  i-1 \n",
    "            if(vertical[i][0]>vertical[i-1][0]):  #  i right i-1  \n",
    "                s.vertical_line_with_right_dims(vertical[i][0]/factor, vertical[i][1]/factor, vertical[i][2]/factor, vertical[i][3]/factor,vertical[i][4]/factor,Green)\n",
    "                s.line_with_NO_dims(vertical[i-1][0]/factor, vertical[i-1][1]/factor, vertical[i-1][2]/factor, vertical[i-1][3]/factor,Green)\n",
    "            else:\n",
    "                s.line_with_NO_dims(vertical[i][0]/factor, vertical[i][1]/factor, vertical[i][2]/factor, vertical[i][3]/factor,Green)\n",
    "                s.vertical_line_with_right_dims(vertical[i-1][0]/factor, vertical[i-1][1]/factor, vertical[i-1][2]/factor, vertical[i-1][3]/factor,vertical[i-1][4]/factor,Green)\n",
    "        elif(i==len(vertical)-1):\n",
    "            s.Determine_RightOrLeft(vertical[i][0],i,factor)\n",
    "\n",
    "        elif(vertical[i][4]!=vertical[i-1][4] and vertical[i][4]!=vertical[i+1][4]):\n",
    "             s.Determine_RightOrLeft(vertical[i][0],i,factor)\n",
    "\n",
    "\n",
    "    for i in general_line:\n",
    "        s.line_with_NO_dims(i[0]/factor, i[1]/factor, i[2]/factor, i[3]/factor,Green)\n",
    "    for i in vertical:\n",
    "        s.line_with_NO_dims(i[0]/factor, i[1]/factor, i[2]/factor, i[3]/factor,Green)\n",
    "    for i in horizontal:\n",
    "        s.line_with_NO_dims(i[0]/factor, i[1]/factor, i[2]/factor, i[3]/factor,Green)\n",
    "\n",
    "\n",
    "\n",
    "\n",
    "    #print(vertical)\n",
    "\n",
    "    #print(horizontal)\n",
    "    for j in list_circles:\n",
    "        if j[3]=='full circle':\n",
    "            s.circle_with_dims(j[2]/factor, j[0]/factor, j[1]/factor,Green)\n",
    "            #print ('full', j[2]/factor)\n",
    "\n",
    "        elif j[3]=='up half circle':\n",
    "            s.arc(j[2]/factor, j[0]/factor, j[1]/factor, 0,180,Green)\n",
    "            #print ('up', j[2]/factor)\n",
    "\n",
    "        elif j[3]=='down half circle':\n",
    "            s.arc(j[2]/factor, j[0]/factor, j[1]/factor, 180,0,Green)\n",
    "            #print ('down', j[2]/factor)\n",
    "\n",
    "        elif j[3]=='left half circle':\n",
    "            s.arc(j[2]/factor, j[0]/factor, j[1]/factor, 90,270,Green)\n",
    "            #print ('left', j[2]/factor)\n",
    "\n",
    "        elif j[3]=='right half circle':\n",
    "            s.arc(j[2]/factor, j[0]/factor, j[1]/factor, 270,90,Green)\n",
    "            #print ('right', j[2]/factor)\n",
    "\n",
    "    #s.Horizontal_line_with_under_dims( 0, 21.2, 45.5, 21.2)\n",
    "    #s.vertical_line_with_right_dims( 0,   0,   0, 21.2)\n",
    "    #s.vertical_line_with_left_dims(45.5,   0, 45.5, 21.2)\n",
    "    #\n",
    "    #\n",
    "    #\n",
    "    # s.rectangle(9.5,3,4,1)\n",
    "    # s.arc(2.5,7.5,6,0,180)\n",
    "    #\n",
    "    # s.circle_with_NO_dims(1.5,7.5,6)\n",
    "\n",
    "\n",
    "     #EX3: trying to detect circles\n",
    "    #s.circle_with_NO_dims(2, 2, 2)        # 1\n",
    "    #s.circle_with_NO_dims(2,7.5 ,2 )      # 2\n",
    "    #s.circle_with_dims(1.5, 7.5, 6)       # 3\n",
    "    #s.circle_with_NO_dims(1, 2, 6)        # 4\n",
    "    #print('done')\n"
   ]
  },
  {
   "cell_type": "code",
   "execution_count": 4,
   "metadata": {},
   "outputs": [
    {
     "name": "stdout",
     "output_type": "stream",
     "text": [
      "edges before houghlines\n"
     ]
    },
    {
     "data": {
      "image/png": "[encoded data removed]",
      "text/plain": [
       "<Figure size 432x288 with 1 Axes>"
      ]
     },
     "metadata": {},
     "output_type": "display_data"
    },
    {
     "name": "stdout",
     "output_type": "stream",
     "text": [
      "after detecting lines\n"
     ]
    },
    {
     "data": {
      "image/png": "[encoded data removed]",
      "text/plain": [
       "<Figure size 432x288 with 1 Axes>"
      ]
     },
     "metadata": {},
     "output_type": "display_data"
    },
    {
     "name": "stdout",
     "output_type": "stream",
     "text": [
      "edges before houghlines\n"
     ]
    },
    {
     "data": {
      "image/png": "[encoded data removed]",
      "text/plain": [
       "<Figure size 432x288 with 1 Axes>"
      ]
     },
     "metadata": {},
     "output_type": "display_data"
    },
    {
     "name": "stdout",
     "output_type": "stream",
     "text": [
      "after detecting lines\n"
     ]
    },
    {
     "data": {
      "image/png": "[encoded data removed]",
      "text/plain": [
       "<Figure size 432x288 with 1 Axes>"
      ]
     },
     "metadata": {},
     "output_type": "display_data"
    },
    {
     "name": "stdout",
     "output_type": "stream",
     "text": [
      "edges before houghlines\n"
     ]
    },
    {
     "data": {
      "image/png": "[encoded data removed]",
      "text/plain": [
       "<Figure size 432x288 with 1 Axes>"
      ]
     },
     "metadata": {},
     "output_type": "display_data"
    },
    {
     "name": "stdout",
     "output_type": "stream",
     "text": [
      "after detecting lines\n"
     ]
    },
    {
     "data": {
      "image/png": "[encoded data removed]",
      "text/plain": [
       "<Figure size 432x288 with 1 Axes>"
      ]
     },
     "metadata": {},
     "output_type": "display_data"
    },
    {
     "name": "stdout",
     "output_type": "stream",
     "text": [
      "edges before houghlines\n"
     ]
    },
    {
     "data": {
      "image/png": "[encoded data removed]",
      "text/plain": [
       "<Figure size 432x288 with 1 Axes>"
      ]
     },
     "metadata": {},
     "output_type": "display_data"
    },
    {
     "name": "stdout",
     "output_type": "stream",
     "text": [
      "after detecting lines\n"
     ]
    },
    {
     "data": {
      "image/png": "[encoded data removed]",
      "text/plain": [
       "<Figure size 432x288 with 1 Axes>"
      ]
     },
     "metadata": {},
     "output_type": "display_data"
    },
    {
     "name": "stdout",
     "output_type": "stream",
     "text": [
      "edges before houghlines\n"
     ]
    },
    {
     "data": {
      "image/png": "[encoded data removed]",
      "text/plain": [
       "<Figure size 432x288 with 1 Axes>"
      ]
     },
     "metadata": {},
     "output_type": "display_data"
    },
    {
     "name": "stdout",
     "output_type": "stream",
     "text": [
      "after detecting lines\n"
     ]
    },
    {
     "data": {
      "image/png": "[encoded data removed]",
      "text/plain": [
       "<Figure size 432x288 with 1 Axes>"
      ]
     },
     "metadata": {},
     "output_type": "display_data"
    },
    {
     "name": "stdout",
     "output_type": "stream",
     "text": [
      "edges before houghlines\n"
     ]
    },
    {
     "data": {
      "image/png": "[encoded data removed]",
      "text/plain": [
       "<Figure size 432x288 with 1 Axes>"
      ]
     },
     "metadata": {},
     "output_type": "display_data"
    },
    {
     "name": "stdout",
     "output_type": "stream",
     "text": [
      "after detecting lines\n"
     ]
    },
    {
     "data": {
      "image/png": "[encoded data removed]",
      "text/plain": [
       "<Figure size 432x288 with 1 Axes>"
      ]
     },
     "metadata": {},
     "output_type": "display_data"
    },
    {
     "name": "stdout",
     "output_type": "stream",
     "text": [
      "edges before houghlines\n"
     ]
    },
    {
     "data": {
      "image/png": "[encoded data removed]",
      "text/plain": [
       "<Figure size 432x288 with 1 Axes>"
      ]
     },
     "metadata": {},
     "output_type": "display_data"
    },
    {
     "name": "stdout",
     "output_type": "stream",
     "text": [
      "after detecting lines\n"
     ]
    },
    {
     "data": {
      "image/png": "[encoded data removed]",
      "text/plain": [
       "<Figure size 432x288 with 1 Axes>"
      ]
     },
     "metadata": {},
     "output_type": "display_data"
    },
    {
     "name": "stdout",
     "output_type": "stream",
     "text": [
      "edges before houghlines\n"
     ]
    },
    {
     "data": {
      "image/png": "[encoded data removed]",
      "text/plain": [
       "<Figure size 432x288 with 1 Axes>"
      ]
     },
     "metadata": {},
     "output_type": "display_data"
    },
    {
     "name": "stdout",
     "output_type": "stream",
     "text": [
      "after detecting lines\n"
     ]
    },
    {
     "data": {
      "image/png": "[encoded data removed]",
      "text/plain": [
       "<Figure size 432x288 with 1 Axes>"
      ]
     },
     "metadata": {},
     "output_type": "display_data"
    },
    {
     "name": "stdout",
     "output_type": "stream",
     "text": [
      "edges before houghlines\n"
     ]
    },
    {
     "data": {
      "image/png": "[encoded data removed]",
      "text/plain": [
       "<Figure size 432x288 with 1 Axes>"
      ]
     },
     "metadata": {},
     "output_type": "display_data"
    },
    {
     "name": "stdout",
     "output_type": "stream",
     "text": [
      "after detecting lines\n"
     ]
    },
    {
     "data": {
      "image/png": "[encoded data removed]",
      "text/plain": [
       "<Figure size 432x288 with 1 Axes>"
      ]
     },
     "metadata": {},
     "output_type": "display_data"
    },
    {
     "name": "stdout",
     "output_type": "stream",
     "text": [
      "edges before houghlines\n"
     ]
    },
    {
     "data": {
      "image/png": "[encoded data removed]",
      "text/plain": [
       "<Figure size 432x288 with 1 Axes>"
      ]
     },
     "metadata": {},
     "output_type": "display_data"
    },
    {
     "name": "stdout",
     "output_type": "stream",
     "text": [
      "after detecting lines\n"
     ]
    },
    {
     "data": {
      "image/png": "[encoded data removed]",
      "text/plain": [
       "<Figure size 432x288 with 1 Axes>"
      ]
     },
     "metadata": {},
     "output_type": "display_data"
    },
    {
     "name": "stdout",
     "output_type": "stream",
     "text": [
      "edges before houghlines\n"
     ]
    },
    {
     "data": {
      "image/png": "[encoded data removed]",
      "text/plain": [
       "<Figure size 432x288 with 1 Axes>"
      ]
     },
     "metadata": {},
     "output_type": "display_data"
    },
    {
     "name": "stdout",
     "output_type": "stream",
     "text": [
      "after detecting lines\n"
     ]
    },
    {
     "data": {
      "image/png": "[encoded data removed]",
      "text/plain": [
       "<Figure size 432x288 with 1 Axes>"
      ]
     },
     "metadata": {},
     "output_type": "display_data"
    },
    {
     "name": "stdout",
     "output_type": "stream",
     "text": [
      "edges before houghlines\n"
     ]
    },
    {
     "data": {
      "image/png": "[encoded data removed]",
      "text/plain": [
       "<Figure size 432x288 with 1 Axes>"
      ]
     },
     "metadata": {},
     "output_type": "display_data"
    },
    {
     "name": "stdout",
     "output_type": "stream",
     "text": [
      "after detecting lines\n"
     ]
    },
    {
     "data": {
      "image/png": "[encoded data removed]",
      "text/plain": [
       "<Figure size 432x288 with 1 Axes>"
      ]
     },
     "metadata": {},
     "output_type": "display_data"
    },
    {
     "name": "stdout",
     "output_type": "stream",
     "text": [
      "edges before houghlines\n"
     ]
    },
    {
     "data": {
      "image/png": "[encoded data removed]",
      "text/plain": [
       "<Figure size 432x288 with 1 Axes>"
      ]
     },
     "metadata": {},
     "output_type": "display_data"
    },
    {
     "name": "stdout",
     "output_type": "stream",
     "text": [
      "after detecting lines\n"
     ]
    },
    {
     "data": {
      "image/png": "[encoded data removed]",
      "text/plain": [
       "<Figure size 432x288 with 1 Axes>"
      ]
     },
     "metadata": {},
     "output_type": "display_data"
    },
    {
     "name": "stdout",
     "output_type": "stream",
     "text": [
      "edges before houghlines\n"
     ]
    },
    {
     "data": {
      "image/png": "[encoded data removed]",
      "text/plain": [
       "<Figure size 432x288 with 1 Axes>"
      ]
     },
     "metadata": {},
     "output_type": "display_data"
    },
    {
     "name": "stdout",
     "output_type": "stream",
     "text": [
      "after detecting lines\n"
     ]
    },
    {
     "data": {
      "image/png": "[encoded data removed]",
      "text/plain": [
       "<Figure size 432x288 with 1 Axes>"
      ]
     },
     "metadata": {},
     "output_type": "display_data"
    },
    {
     "name": "stdout",
     "output_type": "stream",
     "text": [
      "edges before houghlines\n"
     ]
    },
    {
     "data": {
      "image/png": "[encoded data removed]",
      "text/plain": [
       "<Figure size 432x288 with 1 Axes>"
      ]
     },
     "metadata": {},
     "output_type": "display_data"
    },
    {
     "name": "stdout",
     "output_type": "stream",
     "text": [
      "after detecting lines\n"
     ]
    },
    {
     "data": {
      "image/png": "[encoded data removed]",
      "text/plain": [
       "<Figure size 432x288 with 1 Axes>"
      ]
     },
     "metadata": {},
     "output_type": "display_data"
    },
    {
     "name": "stdout",
     "output_type": "stream",
     "text": [
      "edges before houghlines\n"
     ]
    },
    {
     "data": {
      "image/png": "[encoded data removed]",
      "text/plain": [
       "<Figure size 432x288 with 1 Axes>"
      ]
     },
     "metadata": {},
     "output_type": "display_data"
    },
    {
     "name": "stdout",
     "output_type": "stream",
     "text": [
      "after detecting lines\n"
     ]
    },
    {
     "data": {
      "image/png": "[encoded data removed]",
      "text/plain": [
       "<Figure size 432x288 with 1 Axes>"
      ]
     },
     "metadata": {},
     "output_type": "display_data"
    },
    {
     "name": "stdout",
     "output_type": "stream",
     "text": [
      "edges before houghlines\n"
     ]
    },
    {
     "data": {
      "image/png": "[encoded data removed]",
      "text/plain": [
       "<Figure size 432x288 with 1 Axes>"
      ]
     },
     "metadata": {},
     "output_type": "display_data"
    },
    {
     "name": "stdout",
     "output_type": "stream",
     "text": [
      "after detecting lines\n"
     ]
    },
    {
     "data": {
      "image/png": "[encoded data removed]",
      "text/plain": [
       "<Figure size 432x288 with 1 Axes>"
      ]
     },
     "metadata": {},
     "output_type": "display_data"
    },
    {
     "name": "stdout",
     "output_type": "stream",
     "text": [
      "edges before houghlines\n"
     ]
    },
    {
     "data": {
      "image/png": "[encoded data removed]",
      "text/plain": [
       "<Figure size 432x288 with 1 Axes>"
      ]
     },
     "metadata": {},
     "output_type": "display_data"
    },
    {
     "name": "stdout",
     "output_type": "stream",
     "text": [
      "after detecting lines\n"
     ]
    },
    {
     "data": {
      "image/png": "[encoded data removed]",
      "text/plain": [
       "<Figure size 432x288 with 1 Axes>"
      ]
     },
     "metadata": {},
     "output_type": "display_data"
    },
    {
     "name": "stdout",
     "output_type": "stream",
     "text": [
      "edges before houghlines\n"
     ]
    },
    {
     "data": {
      "image/png": "[encoded data removed]",
      "text/plain": [
       "<Figure size 432x288 with 1 Axes>"
      ]
     },
     "metadata": {},
     "output_type": "display_data"
    },
    {
     "name": "stdout",
     "output_type": "stream",
     "text": [
      "after detecting lines\n"
     ]
    },
    {
     "data": {
      "image/png": "[encoded data removed]",
      "text/plain": [
       "<Figure size 432x288 with 1 Axes>"
      ]
     },
     "metadata": {},
     "output_type": "display_data"
    },
    {
     "data": {
      "text/plain": [
       "0"
      ]
     },
     "execution_count": 4,
     "metadata": {},
     "output_type": "execute_result"
    }
   ],
   "source": [
    "import sys\n",
    "import PySide2\n",
    "from PySide2 import QtCore, QtGui, QtWidgets\n",
    "from PySide2.QtWidgets import QApplication, QPushButton, QWidget, QHBoxLayout, QVBoxLayout, QFileDialog, QLineEdit\n",
    "from PySide2.QtGui import QWindow, QPalette\n",
    "import random\n",
    "import math\n",
    "import os\n",
    "\n",
    "points_list = []\n",
    "dimension = 0\n",
    "distancelist = []\n",
    "\n",
    "\n",
    "def reset():\n",
    "    global factor\n",
    "    global horizontal\n",
    "    global vertical\n",
    "    global factor\n",
    "    global list_circles\n",
    "    global distancelist\n",
    "    global points_list\n",
    "    factor = 1\n",
    "    horizontal = []\n",
    "    vertical = []\n",
    "    general_line = []\n",
    "    list_circles = []\n",
    "    distancelist = []\n",
    "    points_list = []\n",
    "    \n",
    "    \n",
    "\n",
    "def Import_pic():\n",
    "    reset()\n",
    "    fileName = QtWidgets.QFileDialog.getOpenFileName()\n",
    "    pixmap = QtGui.QPixmap(str(fileName[0]))\n",
    "    label.setPixmap(pixmap)\n",
    "    label.setAlignment(QtCore.Qt.AlignLeft)\n",
    "    dimenArea.show()\n",
    "    dimenLabel.show()\n",
    "    enterButton.show()\n",
    "    global name\n",
    "    name = fileName[0]\n",
    "    backgroundImage = QtGui.QPixmap(\"./image10.png\")\n",
    "    backgroundImage.scaled(mainwindow.size(), aspectRatioMode=QtCore.Qt.IgnoreAspectRatio)\n",
    "    palette = QPalette()\n",
    "    palette.setBrush(QPalette.Background, backgroundImage)\n",
    "    mainwindow.setPalette(palette)\n",
    "    convertButton.setEnabled(False)\n",
    "    generateFileButton.setEnabled(False)\n",
    "    filelabel.hide()\n",
    "\n",
    "\n",
    "def get_distance():\n",
    "    for i in range(0, len(points_list) - 1, 2):\n",
    "        x1 = int(points_list[i][0])\n",
    "        y1 = int(points_list[i][1])\n",
    "        x2 = int(points_list[i + 1][0])\n",
    "        y2 = int(points_list[i + 1][1])\n",
    "        dis = math.sqrt((x1 - x2) ** 2 + (y1 - y2) ** 2)\n",
    "        #     points_list.pop(0)\n",
    "        #     points_list.pop(1)\n",
    "        distancelist.append(dis)\n",
    "    # return dis\n",
    "\n",
    "def convert_to_autocad():\n",
    "    try:\n",
    "        get_distance()\n",
    "        draw()\n",
    "        main_prog()\n",
    "        reset()\n",
    "        os.startfile(name + \".dxf\")\n",
    "        convertButton.setEnabled(False)\n",
    "        generateFileButton.setEnabled(False)\n",
    "    except:\n",
    "        print('error found, try again')\n",
    "        convertButton.setEnabled(False)\n",
    "        generateFileButton.setEnabled(False)\n",
    "        reset()\n",
    "    # print(temp)\n",
    "\n",
    "\n",
    "def generate_file():\n",
    "    try:\n",
    "        get_distance()\n",
    "        draw()\n",
    "        main_prog()\n",
    "        reset()\n",
    "        convertButton.setEnabled(False)\n",
    "        generateFileButton.setEnabled(False)\n",
    "        filelabel.show()\n",
    "    except:\n",
    "        print('error found')\n",
    "        convertButton.setEnabled(False)\n",
    "        generateFileButton.setEnabled(False)\n",
    "        reset()\n",
    "\n",
    "def getPos(event):\n",
    "    x = event.pos().x()\n",
    "    y = event.pos().y()\n",
    "    points_list.append((x, y))\n",
    "    if (clicklabel.text() == \"First point selected\\nclick on Second point\"):\n",
    "        clicklabel.setText(\"Second point selected\\n Enter dimension \")\n",
    "    else:\n",
    "        clicklabel.setText(\"First point selected\\nclick on Second point\")\n",
    "    filelabel.hide()\n",
    "    clicklabel.show()\n",
    "\n",
    "\n",
    "def on_enter_button_clicked():\n",
    "    global dimension\n",
    "    dimension = int(dimenArea.text())\n",
    "    dimenArea.clear()\n",
    "    clicklabel.hide()\n",
    "    convertButton.setEnabled(True)\n",
    "    generateFileButton.setEnabled(True)\n",
    "    # dimenArea.hide()\n",
    "    # dimenLabel.hide()\n",
    "    # enterButton.hide()\n",
    "\n",
    "\n",
    "# Create the Qt Application\n",
    "app = QApplication(sys.argv)\n",
    "app.setApplicationName(\"Converting image to Autocad\")\n",
    "\n",
    "# Create a button\n",
    "importButton = QPushButton(\"Import Picture\")\n",
    "convertButton = QPushButton(\"Draw in Autocad\")\n",
    "generateFileButton = QPushButton(\"Generate Autocad File\")\n",
    "\n",
    "# Connect the button to the function\n",
    "importButton.clicked.connect(Import_pic)\n",
    "importButton.setIcon(QtGui.QIcon(\"./image3.png\"))\n",
    "convertButton.clicked.connect(convert_to_autocad)\n",
    "convertButton.setIcon(QtGui.QIcon(\"./image4.png\"))\n",
    "generateFileButton.clicked.connect(generate_file)\n",
    "generateFileButton.setIcon(QtGui.QIcon(\"./image13.png\"))\n",
    "\n",
    "importButton.setStyleSheet('QPushButton {background-color: #FA8072; color: white;border-style: \\\n",
    "outset;border-width: 2px;border-radius: 10px;border-color: beige; font: bold 18px;  min-width: 10em;padding: 6px;}\\\n",
    "QPushButton:hover{background-color:#3CB371;color:black}')\n",
    "importButton.setFlat(True)\n",
    "importButton.setFixedSize(62, 42)\n",
    "convertButton.setStyleSheet('QPushButton {background-color: #6495ED; color:white;border-style: \\\n",
    "outset;border-width: 2px;border-radius: 10px;border-color: beige; font: bold 18px;  min-width: 10em;padding: 6px;} \\\n",
    "QPushButton:disabled{background-color: #696969; color:#C0C0C0} QPushButton:hover{background-color:#3CB371;color:black}')\n",
    "convertButton.setFixedSize(62, 42)\n",
    "convertButton.setEnabled(False)\n",
    "generateFileButton.setStyleSheet('QPushButton {background-color: #6495ED; color:white;border-style: \\\n",
    "outset;border-width: 2px;border-radius: 10px;border-color: beige; font: bold 18px;  min-width: 10em;padding: 6px;}\\\n",
    "QPushButton:disabled{background-color: #696969; color:#C0C0C0} QPushButton:hover{background-color:#3CB371;color:black}')\n",
    "generateFileButton.setFixedSize(62, 42)\n",
    "generateFileButton.setEnabled(False)\n",
    "\n",
    "mainwindow = QWidget()\n",
    "mainwindow.resize(1000, 800)\n",
    "buttonslayout = QVBoxLayout()\n",
    "# button.setIcon(QtGui.QIcon('myImage.jpg'))\n",
    "buttonslayout.addWidget(importButton)\n",
    "buttonslayout.addWidget(convertButton)\n",
    "buttonslayout.addWidget(generateFileButton)\n",
    "\n",
    "# enter dimensions\n",
    "dimenArea = QLineEdit()\n",
    "dimenArea.setStyleSheet(\n",
    "    \"QLineEdit { border: 2px solid #800080;padding: 0 8px; background: #DDA0DD;border-radius: 10px; selection-background-color: darkgray; color:black }\")\n",
    "dimenArea.setFixedSize(72, 32)\n",
    "dimenArea.hide()\n",
    "# enter dimension label\n",
    "dimenLabel = QtWidgets.QLabel(\"Click on two points with the mouse then Enter a Dimension\")\n",
    "dimenLabel.setStyleSheet(\"QLabel{font:bold 18px;color:#6A5ACD}\")\n",
    "dimenLabel.hide()\n",
    "# dimension enter\n",
    "enterButton = QPushButton(\"Enter\")\n",
    "enterButton.setFixedSize(100, 32)\n",
    "enterButton.setStyleSheet(\"QPushButton{border-radius: 10px;background: #C71585; font:bold 16px;color: white;}\")\n",
    "enterButton.hide()\n",
    "enterButton.clicked.connect(on_enter_button_clicked)\n",
    "# click flag\n",
    "clicklabel = QtWidgets.QLabel()\n",
    "clicklabel.setFixedSize(220, 150)\n",
    "clicklabel.setStyleSheet(\"QLabel{font:bold 19px;color:#228B22}\")\n",
    "clicklabel.hide()\n",
    "# file generated flag\n",
    "filelabel = QtWidgets.QLabel(\"File Generated\")\n",
    "filelabel.setFixedSize(300, 200)\n",
    "filelabel.setStyleSheet(\"QLabel{font:bold 26px;color:#228B22}\")\n",
    "filelabel.hide()\n",
    "\n",
    "buttonslayout.addWidget(clicklabel)\n",
    "buttonslayout.addWidget(filelabel)\n",
    "buttonslayout.addStretch(2)\n",
    "\n",
    "# pixmap = QtGui.QPixmap(fileName)\n",
    "label = QtWidgets.QLabel()\n",
    "label.mousePressEvent = getPos\n",
    "\n",
    "# textArea and enter layout\n",
    "lineLayout = QHBoxLayout()\n",
    "lineLayout.addWidget(dimenArea)\n",
    "lineLayout.addWidget(enterButton)\n",
    "lineLayout.addStretch(2)\n",
    "\n",
    "# Dimensions and image Layout\n",
    "DimenLayout = QVBoxLayout()\n",
    "DimenLayout.addWidget(label)\n",
    "DimenLayout.addWidget(dimenLabel)\n",
    "DimenLayout.addLayout(lineLayout, 2)\n",
    "# DimenLayout.addWidget(clicklabel)\n",
    "DimenLayout.addStretch(2)\n",
    "\n",
    "# label.setPixmap(pixmap)\n",
    "\n",
    "mainlayout = QHBoxLayout()\n",
    "mainlayout.addLayout(buttonslayout, 2)\n",
    "mainlayout.addLayout(DimenLayout)\n",
    "\n",
    "mainwindow.setLayout(mainlayout)\n",
    "# mainwindow.setStyleSheet(\"QWidget { background-color: #404040 }\")\n",
    "backgroundImage = QtGui.QPixmap(\"./image12.png\")\n",
    "# #backgroundImage.setSize(1000, 800)\n",
    "backgroundImage.scaled(mainwindow.size(), aspectRatioMode=QtCore.Qt.IgnoreAspectRatio)\n",
    "palette = QPalette()\n",
    "palette.setBrush(QPalette.Background, backgroundImage)\n",
    "mainwindow.setPalette(palette)\n",
    "# mainwindow.setAutoFillBackground(True)\n",
    "# mainwindow.setStyleSheet(\"QWidget { background-color: white }\")\n",
    "\n",
    "mainwindow.show()\n",
    "# Run the main Qt loop\n",
    "app.exec_()"
   ]
  },
  {
   "cell_type": "code",
   "execution_count": 5,
   "metadata": {},
   "outputs": [
    {
     "data": {
      "text/plain": [
       "10"
      ]
     },
     "execution_count": 5,
     "metadata": {},
     "output_type": "execute_result"
    }
   ],
   "source": [
    "\n",
    "dimension"
   ]
  },
  {
   "cell_type": "code",
   "execution_count": 6,
   "metadata": {},
   "outputs": [
    {
     "data": {
      "text/plain": [
       "1"
      ]
     },
     "execution_count": 6,
     "metadata": {},
     "output_type": "execute_result"
    }
   ],
   "source": [
    "factor"
   ]
  },
  {
   "cell_type": "code",
   "execution_count": 7,
   "metadata": {},
   "outputs": [],
   "source": [
    "# class MyWidget(QtWidgets.QWidget):\n",
    "#     def __init__(self):\n",
    "#         super().__init__()\n",
    "\n",
    "#         #self.hello = [\"Hallo Welt\", \"Hei maailma\", \"Hola Mundo\", \"Привет мир\"]\n",
    "\n",
    "#         self.button = QtWidgets.QPushButton(\"Click me!\")\n",
    "#         fileName=\"C:/Users/HP/Desktop/ImageGUI/icons8-edit-500.png\"\n",
    "#         pixmap = QtGui.QPixmap(fileName)\n",
    "    \n",
    "#         self.text = QtWidgets.QLabel()\n",
    "#         self.text.setPixmap(pixmap)\n",
    "        \n",
    "#         #self.text.setAlignment(QtCore.Qt.AlignCenter)\n",
    "\n",
    "#         self.layout = QtWidgets.QVBoxLayout()\n",
    "#         self.layout.addWidget(self.text)\n",
    "#         self.layout.addWidget(self.button)\n",
    "#         self.setLayout(self.layout)\n",
    "\n",
    "#         self.button.clicked.connect(self.magic)\n",
    "\n",
    "\n",
    "#     def magic(self):\n",
    "#         #self.text.setText(random.choice(self.hello))\n",
    "#         fileName = QtWidgets.QFileDialog.getOpenFileName()\n",
    "#         print(fileName[0])\n",
    "#         pixmap = QtGui.QPixmap(str(fileName[0]))\n",
    "#         self.text.setPixmap(pixmap)\n",
    "#         self.text.show()\n",
    "#         self.update()\n",
    "        \n"
   ]
  },
  {
   "cell_type": "code",
   "execution_count": 8,
   "metadata": {},
   "outputs": [],
   "source": [
    "# app = QtWidgets.QApplication([])\n",
    "\n",
    "# widget = MyWidget()\n",
    "# widget.resize(800, 600)\n",
    "# widget.show()\n",
    "\n",
    "# sys.exit(app.exec_())"
   ]
  },
  {
   "cell_type": "code",
   "execution_count": 9,
   "metadata": {},
   "outputs": [
    {
     "data": {
      "text/plain": [
       "10"
      ]
     },
     "execution_count": 9,
     "metadata": {},
     "output_type": "execute_result"
    }
   ],
   "source": [
    "dimension"
   ]
  },
  {
   "cell_type": "code",
   "execution_count": 10,
   "metadata": {},
   "outputs": [
    {
     "ename": "error",
     "evalue": "OpenCV(3.4.3) C:\\projects\\opencv-python\\opencv\\modules\\imgproc\\src\\resize.cpp:4044: error: (-215:Assertion failed) !ssize.empty() in function 'cv::resize'\n",
     "output_type": "error",
     "traceback": [
      "\u001b[1;31m---------------------------------------------------------------------------\u001b[0m",
      "\u001b[1;31merror\u001b[0m                                     Traceback (most recent call last)",
      "\u001b[1;32m<ipython-input-10-b821692877dd>\u001b[0m in \u001b[0;36m<module>\u001b[1;34m()\u001b[0m\n\u001b[0;32m      2\u001b[0m \u001b[0mdim\u001b[0m \u001b[1;33m=\u001b[0m \u001b[1;33m[\u001b[0m\u001b[1;36m1280\u001b[0m\u001b[1;33m,\u001b[0m \u001b[1;36m850\u001b[0m\u001b[1;33m]\u001b[0m\u001b[1;33m\u001b[0m\u001b[0m\n\u001b[0;32m      3\u001b[0m \u001b[1;33m\u001b[0m\u001b[0m\n\u001b[1;32m----> 4\u001b[1;33m \u001b[0mresized\u001b[0m \u001b[1;33m=\u001b[0m \u001b[0mcv2\u001b[0m\u001b[1;33m.\u001b[0m\u001b[0mresize\u001b[0m\u001b[1;33m(\u001b[0m\u001b[0mimg\u001b[0m\u001b[1;33m,\u001b[0m \u001b[1;33m(\u001b[0m\u001b[1;36m1920\u001b[0m\u001b[1;33m,\u001b[0m \u001b[1;36m1000\u001b[0m\u001b[1;33m)\u001b[0m\u001b[1;33m)\u001b[0m\u001b[1;33m\u001b[0m\u001b[0m\n\u001b[0m\u001b[0;32m      5\u001b[0m \u001b[0mcv2\u001b[0m\u001b[1;33m.\u001b[0m\u001b[0mimwrite\u001b[0m\u001b[1;33m(\u001b[0m\u001b[1;34m'image12.png'\u001b[0m\u001b[1;33m,\u001b[0m \u001b[0mresized\u001b[0m\u001b[1;33m)\u001b[0m\u001b[1;33m\u001b[0m\u001b[0m\n\u001b[0;32m      6\u001b[0m \u001b[1;33m\u001b[0m\u001b[0m\n",
      "\u001b[1;31merror\u001b[0m: OpenCV(3.4.3) C:\\projects\\opencv-python\\opencv\\modules\\imgproc\\src\\resize.cpp:4044: error: (-215:Assertion failed) !ssize.empty() in function 'cv::resize'\n"
     ]
    }
   ],
   "source": [
    "img = cv2.imread('./image11.png', cv2.IMREAD_UNCHANGED)\n",
    "dim = [1280, 850]\n",
    "\n",
    "resized = cv2.resize(img, (1920, 1000))\n",
    "cv2.imwrite('image12.png', resized)\n",
    "\n",
    "\n",
    "temp=name.split('.')[0]"
   ]
  },
  {
   "cell_type": "code",
   "execution_count": null,
   "metadata": {},
   "outputs": [],
   "source": []
  },
  {
   "cell_type": "code",
   "execution_count": null,
   "metadata": {},
   "outputs": [],
   "source": []
  },
  {
   "cell_type": "code",
   "execution_count": null,
   "metadata": {},
   "outputs": [],
   "source": []
  }
 ],
 "metadata": {
  "kernelspec": {
   "display_name": "Python 3",
   "language": "python",
   "name": "python3"
  },
  "language_info": {
   "codemirror_mode": {
    "name": "ipython",
    "version": 3
   },
   "file_extension": ".py",
   "mimetype": "text/x-python",
   "name": "python",
   "nbconvert_exporter": "python",
   "pygments_lexer": "ipython3",
   "version": "3.6.5"
  }
 },
 "nbformat": 4,
 "nbformat_minor": 2
}
