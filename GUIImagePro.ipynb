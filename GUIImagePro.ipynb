{
 "cells": [
  {
   "cell_type": "code",
   "execution_count": 1,
   "metadata": {},
   "outputs": [
    {
     "data": {
      "text/plain": [
       "0"
      ]
     },
     "execution_count": 1,
     "metadata": {},
     "output_type": "execute_result"
    }
   ],
   "source": [
    "import sys\n",
    "import PySide2\n",
    "from PySide2 import QtCore, QtGui, QtWidgets\n",
    "from PySide2.QtWidgets import QApplication, QPushButton ,QWidget , QHBoxLayout ,QVBoxLayout, QFileDialog ,QLineEdit\n",
    "from PySide2.QtGui import QWindow\n",
    "import random\n",
    "import math\n",
    "\n",
    "points_list=[]\n",
    "dimensionslist=[]\n",
    "distancelist=[]\n",
    "\n",
    "def Import_pic(): \n",
    "    fileName = QtWidgets.QFileDialog.getOpenFileName()\n",
    "    pixmap = QtGui.QPixmap(str(fileName[0]))\n",
    "    label.setPixmap(pixmap)\n",
    "    label.setAlignment(QtCore.Qt.AlignLeft)\n",
    "    dimenArea.show()\n",
    "    dimenLabel.show()\n",
    "    enterButton.show()\n",
    "    \n",
    "def get_distance():\n",
    "    x1=int(points_list[0][0])\n",
    "    y1=int(points_list[0][1])\n",
    "    x2=int(points_list[1][0])\n",
    "    y2=int(points_list[1][1])\n",
    "    dis=math.sqrt((x1-x2)**2+(y1-y2)**2)\n",
    "#     points_list.pop(0)\n",
    "#     points_list.pop(1)\n",
    "#     distancelist.append(dis)\n",
    "    return dis \n",
    " \n",
    "    \n",
    "def convert_to_autocad():\n",
    "    print(\"convert done\")\n",
    "\n",
    "def getPos(event):\n",
    "    x = event.pos().x()\n",
    "    y = event.pos().y() \n",
    "    points_list.append((x,y))\n",
    "    if(clicklabel.text()==\"First point selected\"):\n",
    "        clicklabel.setText(\"Second point selected \")\n",
    "    else:\n",
    "        clicklabel.setText(\"First point selected\")\n",
    "    clicklabel.show()\n",
    "        \n",
    "    \n",
    "    \n",
    "def on_enter_button_clicked():\n",
    "    dimensionslist.append(int(dimenArea.text()))\n",
    "    dimenArea.clear()\n",
    "    clicklabel.hide()\n",
    "    \n",
    "    \n",
    "# Create the Qt Application\n",
    "app = QApplication(sys.argv)\n",
    "# Create a button\n",
    "importButton = QPushButton(\"Import picture\")\n",
    "convertButton = QPushButton(\"Draw in autocad\")\n",
    "\n",
    "\n",
    "# Connect the button to the function\n",
    "importButton.clicked.connect(Import_pic)\n",
    "importButton.setIcon(QtGui.QIcon(\"./icons8-xlarge-icons-filled-100.png\"))\n",
    "convertButton.clicked.connect(convert_to_autocad)\n",
    "convertButton.setIcon(QtGui.QIcon(\"./icons8-edit-512.png\"))\n",
    "importButton.setStyleSheet('QPushButton {background-color: #00CED1; color: black;}')\n",
    "convertButton.setStyleSheet('QPushButton {background-color:#FFB6C1; color: black;}')\n",
    "\n",
    "\n",
    "\n",
    "\n",
    "\n",
    "mainwindow = QWidget()\n",
    "\n",
    "mainwindow = QWidget()\n",
    "mainwindow.resize(1000, 800)\n",
    "buttonslayout = QVBoxLayout()\n",
    "#button.setIcon(QtGui.QIcon('myImage.jpg'))\n",
    "buttonslayout.addWidget(importButton)\n",
    "buttonslayout.addWidget(convertButton)\n",
    "\n",
    "buttonslayout.addStretch(2)\n",
    "\n",
    "#enter dimensions\n",
    "dimenArea= QLineEdit()\n",
    "dimenArea.hide()\n",
    "#enter dimension label\n",
    "dimenLabel= QtWidgets.QLabel(\"Press two points and Enter Dimension\")\n",
    "dimenLabel.hide()\n",
    "# dimension enter\n",
    "enterButton=QPushButton(\"Enter\")\n",
    "enterButton.hide()\n",
    "enterButton.clicked.connect(on_enter_button_clicked)\n",
    "# click flag \n",
    "clicklabel=QtWidgets.QLabel()\n",
    "clicklabel.hide()\n",
    "\n",
    "#pixmap = QtGui.QPixmap(fileName)\n",
    "label = QtWidgets.QLabel()\n",
    "label.mousePressEvent = getPos\n",
    "\n",
    "#textArea and enter layout\n",
    "lineLayout=QHBoxLayout()\n",
    "lineLayout.addWidget(dimenArea)\n",
    "lineLayout.addWidget(enterButton)\n",
    "\n",
    "#Dimensions and image Layout\n",
    "DimenLayout = QVBoxLayout()\n",
    "DimenLayout.addWidget(label)\n",
    "DimenLayout.addWidget(dimenLabel)\n",
    "DimenLayout.addLayout(lineLayout)\n",
    "DimenLayout.addWidget(clicklabel)\n",
    "DimenLayout.addStretch(2)\n",
    "\n",
    "#label.setPixmap(pixmap) \n",
    "\n",
    "mainlayout = QHBoxLayout()\n",
    "mainlayout.addLayout(buttonslayout,2)\n",
    "mainlayout.addLayout(DimenLayout)\n",
    "\n",
    "mainwindow.setLayout(mainlayout)\n",
    "mainwindow.show()\n",
    "# Run the main Qt loop\n",
    "app.exec_()"
   ]
  },
  {
   "cell_type": "code",
   "execution_count": 2,
   "metadata": {},
   "outputs": [
    {
     "data": {
      "text/plain": [
       "[(53, 352), (260, 160)]"
      ]
     },
     "execution_count": 2,
     "metadata": {},
     "output_type": "execute_result"
    }
   ],
   "source": [
    "\n",
    "points_list"
   ]
  },
  {
   "cell_type": "code",
   "execution_count": 9,
   "metadata": {},
   "outputs": [
    {
     "data": {
      "text/plain": [
       "282.3349075123372"
      ]
     },
     "execution_count": 9,
     "metadata": {},
     "output_type": "execute_result"
    }
   ],
   "source": [
    "dis=get_distance()\n",
    "dis\n"
   ]
  },
  {
   "cell_type": "code",
   "execution_count": 4,
   "metadata": {},
   "outputs": [
    {
     "data": {
      "text/plain": [
       "[(53, 352), (260, 160)]"
      ]
     },
     "execution_count": 4,
     "metadata": {},
     "output_type": "execute_result"
    }
   ],
   "source": [
    "points_list"
   ]
  },
  {
   "cell_type": "code",
   "execution_count": 5,
   "metadata": {},
   "outputs": [],
   "source": [
    "# class MyWidget(QtWidgets.QWidget):\n",
    "#     def __init__(self):\n",
    "#         super().__init__()\n",
    "\n",
    "#         #self.hello = [\"Hallo Welt\", \"Hei maailma\", \"Hola Mundo\", \"Привет мир\"]\n",
    "\n",
    "#         self.button = QtWidgets.QPushButton(\"Click me!\")\n",
    "#         fileName=\"C:/Users/HP/Desktop/ImageGUI/icons8-edit-500.png\"\n",
    "#         pixmap = QtGui.QPixmap(fileName)\n",
    "    \n",
    "#         self.text = QtWidgets.QLabel()\n",
    "#         self.text.setPixmap(pixmap)\n",
    "        \n",
    "#         #self.text.setAlignment(QtCore.Qt.AlignCenter)\n",
    "\n",
    "#         self.layout = QtWidgets.QVBoxLayout()\n",
    "#         self.layout.addWidget(self.text)\n",
    "#         self.layout.addWidget(self.button)\n",
    "#         self.setLayout(self.layout)\n",
    "\n",
    "#         self.button.clicked.connect(self.magic)\n",
    "\n",
    "\n",
    "#     def magic(self):\n",
    "#         #self.text.setText(random.choice(self.hello))\n",
    "#         fileName = QtWidgets.QFileDialog.getOpenFileName()\n",
    "#         print(fileName[0])\n",
    "#         pixmap = QtGui.QPixmap(str(fileName[0]))\n",
    "#         self.text.setPixmap(pixmap)\n",
    "#         self.text.show()\n",
    "#         self.update()\n",
    "        \n"
   ]
  },
  {
   "cell_type": "code",
   "execution_count": 6,
   "metadata": {},
   "outputs": [],
   "source": [
    "# app = QtWidgets.QApplication([])\n",
    "\n",
    "# widget = MyWidget()\n",
    "# widget.resize(800, 600)\n",
    "# widget.show()\n",
    "\n",
    "# sys.exit(app.exec_())"
   ]
  },
  {
   "cell_type": "code",
   "execution_count": 7,
   "metadata": {},
   "outputs": [
    {
     "data": {
      "text/plain": [
       "[12]"
      ]
     },
     "execution_count": 7,
     "metadata": {},
     "output_type": "execute_result"
    }
   ],
   "source": [
    "dimensionslist"
   ]
  },
  {
   "cell_type": "code",
   "execution_count": null,
   "metadata": {},
   "outputs": [],
   "source": []
  }
 ],
 "metadata": {
  "kernelspec": {
   "display_name": "Python 3",
   "language": "python",
   "name": "python3"
  },
  "language_info": {
   "codemirror_mode": {
    "name": "ipython",
    "version": 3
   },
   "file_extension": ".py",
   "mimetype": "text/x-python",
   "name": "python",
   "nbconvert_exporter": "python",
   "pygments_lexer": "ipython3",
   "version": "3.6.4"
  }
 },
 "nbformat": 4,
 "nbformat_minor": 2
}
